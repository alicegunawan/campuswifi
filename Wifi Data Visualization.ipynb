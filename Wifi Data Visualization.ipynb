{
 "cells": [
  {
   "cell_type": "code",
   "execution_count": 1,
   "metadata": {},
   "outputs": [],
   "source": [
    "import numpy as np\n",
    "import pandas as pd\n",
    "import regex as re\n",
    "import plotly as px\n",
    "import plotly.graph_objects as go"
   ]
  },
  {
   "cell_type": "code",
   "execution_count": 2,
   "metadata": {},
   "outputs": [],
   "source": [
    "wifi_responses = pd.read_csv('UCSD Wifi Poll (Responses) - Form Responses 1.csv')"
   ]
  },
  {
   "cell_type": "code",
   "execution_count": 3,
   "metadata": {},
   "outputs": [
    {
     "data": {
      "text/html": [
       "<div>\n",
       "<style scoped>\n",
       "    .dataframe tbody tr th:only-of-type {\n",
       "        vertical-align: middle;\n",
       "    }\n",
       "\n",
       "    .dataframe tbody tr th {\n",
       "        vertical-align: top;\n",
       "    }\n",
       "\n",
       "    .dataframe thead th {\n",
       "        text-align: right;\n",
       "    }\n",
       "</style>\n",
       "<table border=\"1\" class=\"dataframe\">\n",
       "  <thead>\n",
       "    <tr style=\"text-align: right;\">\n",
       "      <th></th>\n",
       "      <th>College</th>\n",
       "      <th>How long have you had to wait for your WiFi to connect on campus during this quarter?</th>\n",
       "      <th>Where have you experienced the worst quality WiFi on campus this quarter?</th>\n",
       "      <th>Which WiFi server(s) have you experienced problems with? (Select all that apply)</th>\n",
       "      <th>Has low quality WiFi impacted your studies or your class time?</th>\n",
       "      <th>If so, how?</th>\n",
       "    </tr>\n",
       "  </thead>\n",
       "  <tbody>\n",
       "    <tr>\n",
       "      <th>0</th>\n",
       "      <td>ERC</td>\n",
       "      <td>10+ minutes</td>\n",
       "      <td>Center Hall</td>\n",
       "      <td>UCSD-Protected, UCSD-Guest</td>\n",
       "      <td>Yes</td>\n",
       "      <td>Can't take notes in class and have to use my p...</td>\n",
       "    </tr>\n",
       "    <tr>\n",
       "      <th>1</th>\n",
       "      <td>Marshall</td>\n",
       "      <td>10+ minutes</td>\n",
       "      <td>dorms-marshall lowers</td>\n",
       "      <td>UCSD-Protected, UCSD-Guest, Resnet (login requ...</td>\n",
       "      <td>Yes</td>\n",
       "      <td>NaN</td>\n",
       "    </tr>\n",
       "    <tr>\n",
       "      <th>2</th>\n",
       "      <td>Sixth</td>\n",
       "      <td>10+ minutes</td>\n",
       "      <td>York Hall</td>\n",
       "      <td>UCSD-Protected, Resnet (login required), Resne...</td>\n",
       "      <td>Yes</td>\n",
       "      <td>In my TDPW 1 class we have had to wait up to 1...</td>\n",
       "    </tr>\n",
       "    <tr>\n",
       "      <th>3</th>\n",
       "      <td>Revelle</td>\n",
       "      <td>10+ minutes</td>\n",
       "      <td>Price center, revelle plaza, basically in any ...</td>\n",
       "      <td>UCSD-Protected, UCSD-Guest, Resnet (login requ...</td>\n",
       "      <td>Yes</td>\n",
       "      <td>I have many one hour blocks between  classes w...</td>\n",
       "    </tr>\n",
       "    <tr>\n",
       "      <th>4</th>\n",
       "      <td>Muir</td>\n",
       "      <td>No wait</td>\n",
       "      <td>ERC</td>\n",
       "      <td>Resnet (login required), Resnet (no login requ...</td>\n",
       "      <td>No</td>\n",
       "      <td>NaN</td>\n",
       "    </tr>\n",
       "  </tbody>\n",
       "</table>\n",
       "</div>"
      ],
      "text/plain": [
       "    College  \\\n",
       "0       ERC   \n",
       "1  Marshall   \n",
       "2     Sixth   \n",
       "3   Revelle   \n",
       "4      Muir   \n",
       "\n",
       "  How long have you had to wait for your WiFi to connect on campus during this quarter?  \\\n",
       "0                                        10+ minutes                                      \n",
       "1                                        10+ minutes                                      \n",
       "2                                        10+ minutes                                      \n",
       "3                                        10+ minutes                                      \n",
       "4                                            No wait                                      \n",
       "\n",
       "  Where have you experienced the worst quality WiFi on campus this quarter?  \\\n",
       "0                                        Center Hall                          \n",
       "1                              dorms-marshall lowers                          \n",
       "2                                         York Hall                           \n",
       "3  Price center, revelle plaza, basically in any ...                          \n",
       "4                                                ERC                          \n",
       "\n",
       "  Which WiFi server(s) have you experienced problems with? (Select all that apply)  \\\n",
       "0                         UCSD-Protected, UCSD-Guest                                 \n",
       "1  UCSD-Protected, UCSD-Guest, Resnet (login requ...                                 \n",
       "2  UCSD-Protected, Resnet (login required), Resne...                                 \n",
       "3  UCSD-Protected, UCSD-Guest, Resnet (login requ...                                 \n",
       "4  Resnet (login required), Resnet (no login requ...                                 \n",
       "\n",
       "  Has low quality WiFi impacted your studies or your class time?  \\\n",
       "0                                                Yes               \n",
       "1                                                Yes               \n",
       "2                                                Yes               \n",
       "3                                                Yes               \n",
       "4                                                 No               \n",
       "\n",
       "                                         If so, how?  \n",
       "0  Can't take notes in class and have to use my p...  \n",
       "1                                                NaN  \n",
       "2  In my TDPW 1 class we have had to wait up to 1...  \n",
       "3  I have many one hour blocks between  classes w...  \n",
       "4                                                NaN  "
      ]
     },
     "execution_count": 3,
     "metadata": {},
     "output_type": "execute_result"
    }
   ],
   "source": [
    "## remove non ucsd emails\n",
    "ucsd_emails_regex = '$@ucsd.edu'\n",
    "wifi_ucsd = wifi_responses[wifi_responses['Email Address'].str.contains('@ucsd.edu', regex= True, na=False)]\n",
    "\n",
    "## remove timestamp and email address\n",
    "wifi_ucsd = wifi_ucsd.drop('Timestamp', axis=1).drop('Email Address', axis=1)\n",
    "wifi_ucsd.head()"
   ]
  },
  {
   "cell_type": "code",
   "execution_count": 4,
   "metadata": {
    "scrolled": true
   },
   "outputs": [],
   "source": [
    "## helper function to add eduroam in\n",
    "def add_eduroam(wifi_servers):\n",
    "    searched = re.search(r'[Ee]du', wifi_servers)\n",
    "    if searched != None:\n",
    "        removed = wifi_servers[:searched.start()]\n",
    "        return removed + \"Eduroam\"\n",
    "    elif (wifi_servers == \"there is no wifi\"):\n",
    "        return \"None\"\n",
    "    elif (wifi_servers == \"Village East secure\"):\n",
    "        return \"Resnet (login required)\"\n",
    "    return wifi_servers\n",
    "\n",
    "## relevant locations\n",
    "center = r'[Cc][Ee][Nn][Tt]'\n",
    "peterson = r'[Pp][Ee][Tt][Ee][Rr]'\n",
    "solis = r'[Ss][Oo][Ll][Ii][Ss]'\n",
    "wlh = r'[Ww][Ll][Hh]'\n",
    "wlh_full = r'[Ww][Aa][Rr]{2}[Ee][Nn] [Ll]ec'\n",
    "york = r'[Yy]ork'\n",
    "pcynh = r'[Pp][Cc][Yy]'\n",
    "pcynh_full = r'[Pp]epper'\n",
    "galbraith = r'[Gg][a][i]{0,1}lbr'\n",
    "cse = r'[Cc][Ss][Ee]'\n",
    "ebu3b = r'[Ee][Bb][Uu]'\n",
    "ledden = r'[Ll][Ee][Dd]{2}'\n",
    "mandeville = r'[Mm][Aa][Nn][Dd][Ee]'\n",
    "argo = r'[Aa]rgo'\n",
    "tioga = r'[Tt]ioga'\n",
    "black = r'[Bb][Ll][Aa][Cc][Kk]'\n",
    "muir = r'[Mm][Uu][Ii][Rr]'\n",
    "warren = r'[Ww][Aa][Rr]{2}[Ee][Nn]'\n",
    "revelle = r'[Rr][Ee][Vv][Ee][Ll]{2}'\n",
    "erc = r'[Ee][Rr][Cc]'\n",
    "sixth = r'[Ss][Ii][Xx][Tt][Hh]'\n",
    "marshall_uppers = r'[Uu]pper'\n",
    "marshall_lowers = r'[Ll]ower'\n",
    "village = r'[Vv]illage'\n",
    "sixty_four = r'64'\n",
    "sixty_four_full = r'[Ss][Ii][Xx][Tt][Yy]'\n",
    "pc = r'[Pp][Cc]'\n",
    "pc_full = r'[Pp]rice'\n",
    "geisel = r'[Gg][ei]{2}sel'\n",
    "biomed = r'[Bb]iomed'\n",
    "\n",
    "locations = {center: \"CENTER\", peterson: \"PETER\", solis: \"SOLIS\", wlh: \"WLH\", wlh_full: \"WLH\", york: \"YORK\",\n",
    "             pcynh: \"PCYNH\", pcynh_full: \"PCYNH\", galbraith: \"GH\", cse: \"CSE\", ebu3b: \"CSE\", ledden: \"LEDDN AUD\",\n",
    "             mandeville: \"MDVL\", argo: \"ARGO\", tioga: \"TIOGA\", black: \"BLACK\", muir: \"MUIR\", warren: \"WARREN\",\n",
    "             revelle: \"REVELLE\", erc: \"REVELLE\", sixth: \"SIXTH\", marshall_uppers: \"UPPERS\", marshall_lowers: \"LOWERS\",\n",
    "             village: \"VILLAGE\", sixty_four: \"SIXTY FOUR\", sixty_four_full: \"SIXTY FOUR\", pc: \"PC\", pc_full: \"PC\",\n",
    "             geisel: \"GEISEL\", biomed: \"BIOMED\"}\n",
    "\n",
    "## helper functions to filter locations\n",
    "def filter_locations(wifi_locations):\n",
    "    result = ''\n",
    "    for key in locations:\n",
    "        check = re.search(key, wifi_locations)\n",
    "        if check != None:\n",
    "            if result == '':\n",
    "                result = locations[key]\n",
    "            elif key == biomed:\n",
    "                result += locations[key]\n",
    "            else:\n",
    "                result += ', ' + locations[key]\n",
    "    return result"
   ]
  },
  {
   "cell_type": "code",
   "execution_count": 5,
   "metadata": {},
   "outputs": [],
   "source": [
    "## map helper functions to their columns\n",
    "wifi_ucsd['Where have you experienced the worst quality WiFi on campus this quarter?'] = wifi_ucsd[\n",
    "    'Where have you experienced the worst quality WiFi on campus this quarter?'].apply(filter_locations)\n",
    "wifi_ucsd['Which WiFi server(s) have you experienced problems with? (Select all that apply)'] = wifi_ucsd[\n",
    "    'Which WiFi server(s) have you experienced problems with? (Select all that apply)'].apply(add_eduroam)"
   ]
  },
  {
   "cell_type": "code",
   "execution_count": 6,
   "metadata": {},
   "outputs": [
    {
     "data": {
      "text/plain": [
       "[4, 39, 65, 43, 146]"
      ]
     },
     "execution_count": 6,
     "metadata": {},
     "output_type": "execute_result"
    }
   ],
   "source": [
    "## connection times instances\n",
    "connection_times = ['No wait','1-3 minutes','4-6 minutes','7-9 minutes', '10+ minutes']\n",
    "total = 0\n",
    "no_wait = 0\n",
    "one_three = 0\n",
    "four_six = 0\n",
    "seven_nine = 0\n",
    "more = 0\n",
    "\n",
    "for time in wifi_ucsd['How long have you had to wait for your WiFi to connect on campus during this quarter?']:\n",
    "    total += 1\n",
    "    if time == 'No wait':\n",
    "        no_wait += 1\n",
    "    elif time == '1-3 minutes':\n",
    "        one_three += 1\n",
    "    elif time == '4-6 minutes':\n",
    "        four_six += 1\n",
    "    elif time == '7-9 minutes':\n",
    "        seven_nine += 1\n",
    "    else:\n",
    "        more += 1\n",
    "\n",
    "connection_times_val = [no_wait, one_three, four_six, seven_nine, more]\n",
    "connection_times_val"
   ]
  },
  {
   "cell_type": "code",
   "execution_count": null,
   "metadata": {},
   "outputs": [],
   "source": [
    "## visualizing connection times\n",
    "colors = ['darkorange', 'lightcoral', 'lightgreen', 'gold', 'mediumturquoise']\n",
    "\n",
    "fig = go.Figure(data=[go.Pie(labels=connection_times, values=connection_times_val)])\n",
    "\n",
    "fig.update_traces(hoverinfo='label+percent', textinfo='value', textfont_size=20,\n",
    "                  marker=dict(colors=colors, line=dict(color='#000000', width=2)))\n",
    "\n",
    "fig.show()"
   ]
  },
  {
   "cell_type": "code",
   "execution_count": null,
   "metadata": {},
   "outputs": [],
   "source": [
    "## how much has wifi impacted studies negatively\n",
    "impacted = 0\n",
    "not_impacted = 0\n",
    "\n",
    "for i in wifi_ucsd['Has low quality WiFi impacted your studies or your class time?']:\n",
    "    if i == 'Yes':\n",
    "        impacted += 1\n",
    "    else:\n",
    "        not_impacted += 1\n",
    "\n",
    "wifi_impact = [impacted, not_impacted]\n",
    "wifi_impact"
   ]
  },
  {
   "cell_type": "code",
   "execution_count": null,
   "metadata": {},
   "outputs": [],
   "source": [
    "## wifi impact in percentages\n",
    "total = sum(wifi_impact)\n",
    "percentages = [impacted/total * 100, not_impacted/total * 100]\n",
    "percentages"
   ]
  },
  {
   "cell_type": "code",
   "execution_count": null,
   "metadata": {},
   "outputs": [],
   "source": [
    "## which wifi servers are the worst\n",
    "wifi_servers = ['UCSD-Protected', 'UCSD-Guest', 'UCSD-Device', 'Resnet (login required)',\n",
    "                'Resnet (no login required)', 'Eduroam']\n",
    "protected = 0\n",
    "guest = 0\n",
    "device = 0\n",
    "resnet_login = 0\n",
    "resnet_nologin = 0\n",
    "eduroam = 0\n",
    "\n",
    "for value in wifi_ucsd['Which WiFi server(s) have you experienced problems with? (Select all that apply)']:\n",
    "    if re.search(r'UCSD-Protected', value) != None:\n",
    "        protected += 1\n",
    "    if re.search(r'UCSD-Guest', value) != None:\n",
    "        guest += 1\n",
    "    if re.search(r'UCSD-Device', value) != None:\n",
    "        device += 1\n",
    "    if re.search(r'Resnet\\s[(]login\\srequired[)]', value) != None:\n",
    "        resnet_login += 1\n",
    "    if re.search(r'Resnet\\s[(]no\\slogin\\srequired[)]', value) != None:\n",
    "        resnet_nologin += 1\n",
    "    if re.search(r'Eduroam', value) != None:\n",
    "        eduroam += 1\n",
    "\n",
    "worst_wifi_servers = [protected, guest, device, resnet_login, resnet_nologin, eduroam]\n",
    "worst_wifi_servers"
   ]
  },
  {
   "cell_type": "code",
   "execution_count": null,
   "metadata": {},
   "outputs": [],
   "source": [
    "total = sum(worst_wifi_servers)\n",
    "percentages = [protected/total * 100, guest/total * 100, device/total * 100, resnet_login/total * 100, \n",
    "               resnet_nologin/total * 100, eduroam/total * 100]\n",
    "percentages"
   ]
  },
  {
   "cell_type": "code",
   "execution_count": null,
   "metadata": {},
   "outputs": [],
   "source": [
    "columns = {\"Location\": wifi_servers, \"Count\": worst_wifi_servers}\n",
    "locations = pd.DataFrame(columns)\n",
    "locations.to_csv('wifi_servers_data.csv', header=False, index=False)"
   ]
  },
  {
   "cell_type": "code",
   "execution_count": null,
   "metadata": {},
   "outputs": [],
   "source": [
    "## find worst quality wifi on campus\n",
    "places = {\"CENTER\": 0, \"PETER\": 0, \"SOLIS\": 0, \"WLH\": 0, \"YORK\": 0, \"PCYNH\": 0, \"GH\": 0, \"CSE\": 0, \"LEDDN AUD\": 0,\n",
    "          \"MDVL\": 0, \"ARGO\": 0, \"TIOGA\": 0, \"BLACK\": 0, \"MUIR\": 0, \"WARREN\": 0, \"REVELLE\": 0, \"SIXTH\": 0, \"UPPERS\": 0,\n",
    "          \"LOWERS\": 0, \"VILLAGE\": 0, \"SIXTY FOUR\": 0, \"PC\": 0, \"GEISEL\": 0, \"BIOMED\": 0}\n",
    "\n",
    "for value in wifi_ucsd['Where have you experienced the worst quality WiFi on campus this quarter?']:\n",
    "    split = value.split(\", \")\n",
    "    for key in places:\n",
    "        for location in split:\n",
    "            if location == key:\n",
    "                places[key] += 1\n",
    "places['BIOMED'] = 2\n",
    "places"
   ]
  },
  {
   "cell_type": "code",
   "execution_count": null,
   "metadata": {},
   "outputs": [],
   "source": [
    "columns = {\"Location\": list(places.keys()), \"Count\": list(places.values())}\n",
    "locations = pd.DataFrame(columns)\n",
    "locations.to_csv('location_data.csv', header=False, index=False)"
   ]
  },
  {
   "cell_type": "code",
   "execution_count": null,
   "metadata": {},
   "outputs": [],
   "source": [
    "wifi_ucsd.head()"
   ]
  },
  {
   "cell_type": "code",
   "execution_count": null,
   "metadata": {},
   "outputs": [],
   "source": [
    "re.search(r'[Bb]iomed', 'Galbraith, PC, Biomedical Library, Bottom Floor Geisel') != None"
   ]
  },
  {
   "cell_type": "code",
   "execution_count": null,
   "metadata": {},
   "outputs": [],
   "source": [
    "places.values()"
   ]
  },
  {
   "cell_type": "code",
   "execution_count": null,
   "metadata": {},
   "outputs": [],
   "source": [
    "total"
   ]
  },
  {
   "cell_type": "code",
   "execution_count": null,
   "metadata": {},
   "outputs": [],
   "source": []
  }
 ],
 "metadata": {
  "kernelspec": {
   "display_name": "Python 3",
   "language": "python",
   "name": "python3"
  },
  "language_info": {
   "codemirror_mode": {
    "name": "ipython",
    "version": 3
   },
   "file_extension": ".py",
   "mimetype": "text/x-python",
   "name": "python",
   "nbconvert_exporter": "python",
   "pygments_lexer": "ipython3",
   "version": "3.6.5"
  }
 },
 "nbformat": 4,
 "nbformat_minor": 2
}
